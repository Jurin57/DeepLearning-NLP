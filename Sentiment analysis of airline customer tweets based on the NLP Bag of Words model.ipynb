{
  "nbformat": 4,
  "nbformat_minor": 0,
  "metadata": {
    "colab": {
      "provenance": [],
      "toc_visible": true
    },
    "kernelspec": {
      "name": "python3",
      "display_name": "Python 3"
    },
    "language_info": {
      "name": "python"
    }
  },
  "cells": [
    {
      "cell_type": "markdown",
      "source": [
        "# Data Preprocessing\n"
      ],
      "metadata": {
        "id": "vUcMZaJ3MCPg"
      }
    },
    {
      "cell_type": "code",
      "execution_count": null,
      "metadata": {
        "id": "YsTZ_jGJAHcp"
      },
      "outputs": [],
      "source": [
        "import tensorflow as tf\n",
        "from tensorflow.keras.layers.experimental.preprocessing import TextVectorization\n",
        "import re\n",
        "import string"
      ]
    },
    {
      "cell_type": "code",
      "source": [
        "from google.colab import drive\n",
        "drive.mount('/content/drive/', force_remount=True)"
      ],
      "metadata": {
        "colab": {
          "base_uri": "https://localhost:8080/"
        },
        "id": "EoAGY-QWAVAp",
        "outputId": "3dfc156d-f824-4798-b889-2093809207c4"
      },
      "execution_count": null,
      "outputs": [
        {
          "output_type": "stream",
          "name": "stdout",
          "text": [
            "Mounted at /content/drive/\n"
          ]
        }
      ]
    },
    {
      "cell_type": "code",
      "source": [
        "# File names 'negative_comments.txt' and 'positive_comments.txt'\n",
        "negative_file_path = '/content/drive/MyDrive/text_2/pre/neg.txt'\n",
        "positive_file_path = '/content/drive/MyDrive/text_2/pre/pos.txt'\n",
        "\n",
        "# Read the negative comment file\n",
        "with open(negative_file_path, 'r') as file:\n",
        "    negative_comments = file.readlines()\n",
        "\n",
        "# Read the positive comment file\n",
        "with open(positive_file_path, 'r') as file:\n",
        "    positive_comments = file.readlines()\n",
        "\n",
        "# The number of negative and positive reviews read\n",
        "print(f\"读取到的负面评论数量: {len(negative_comments)}\")\n",
        "print(f\"读取到的正面评论数量: {len(positive_comments)}\")\n"
      ],
      "metadata": {
        "colab": {
          "base_uri": "https://localhost:8080/"
        },
        "id": "xMQAYJo3A4en",
        "outputId": "6c24a859-c573-404b-b83f-8252a01b6494"
      },
      "execution_count": null,
      "outputs": [
        {
          "output_type": "stream",
          "name": "stdout",
          "text": [
            "读取到的负面评论数量: 8019\n",
            "读取到的正面评论数量: 7567\n"
          ]
        }
      ]
    },
    {
      "cell_type": "code",
      "source": [
        "import pandas as pd\n",
        "import re\n",
        "import nltk\n",
        "from nltk.corpus import stopwords\n",
        "from nltk.tokenize import word_tokenize\n",
        "from nltk.stem import WordNetLemmatizer\n",
        "\n",
        "nltk.download('punkt')\n",
        "nltk.download('stopwords')\n",
        "nltk.download('wordnet')"
      ],
      "metadata": {
        "colab": {
          "base_uri": "https://localhost:8080/"
        },
        "id": "cylt60o1BRw3",
        "outputId": "dae2c38e-a6f2-466b-b483-3d79081f7f4f"
      },
      "execution_count": null,
      "outputs": [
        {
          "output_type": "stream",
          "name": "stderr",
          "text": [
            "[nltk_data] Downloading package punkt to /root/nltk_data...\n",
            "[nltk_data]   Unzipping tokenizers/punkt.zip.\n",
            "[nltk_data] Downloading package stopwords to /root/nltk_data...\n",
            "[nltk_data]   Unzipping corpora/stopwords.zip.\n"
          ]
        },
        {
          "output_type": "execute_result",
          "data": {
            "text/plain": [
              "True"
            ]
          },
          "metadata": {},
          "execution_count": 4
        }
      ]
    },
    {
      "cell_type": "markdown",
      "source": [
        "Text normalization"
      ],
      "metadata": {
        "id": "ofDaAOIzMXO1"
      }
    },
    {
      "cell_type": "code",
      "source": [
        "def custom_preprocess(text):\n",
        "    text = text.lower()\n",
        "    text = re.sub(r'http\\S+', '', text)\n",
        "    text = re.sub(r'@\\w+', '', text)\n",
        "    # tokenization\n",
        "    words = word_tokenize(text)\n",
        "    # Create a custom list of stop words\n",
        "    custom_stop_words = set(stopwords.words('english'))\n",
        "    # Remove words from the list that are important for sentiment analysis, such as 'not' and 'never'\n",
        "    custom_stop_words.discard('not')\n",
        "    custom_stop_words.discard('never')\n",
        "    # Lemmatization\n",
        "    lemmatizer = WordNetLemmatizer()\n",
        "    processed_words = [lemmatizer.lemmatize(word) for word in words if word not in custom_stop_words]\n",
        "\n",
        "    # Reassemble text\n",
        "    return ' '.join(processed_words)"
      ],
      "metadata": {
        "colab": {
          "base_uri": "https://localhost:8080/"
        },
        "id": "Q9KFgHDOajZQ",
        "outputId": "ef321ef5-d741-4e23-f721-8cf07ec91b22"
      },
      "execution_count": null,
      "outputs": [
        {
          "output_type": "stream",
          "name": "stderr",
          "text": [
            "[nltk_data] Downloading package punkt to /root/nltk_data...\n",
            "[nltk_data]   Package punkt is already up-to-date!\n",
            "[nltk_data] Downloading package stopwords to /root/nltk_data...\n",
            "[nltk_data]   Package stopwords is already up-to-date!\n",
            "[nltk_data] Downloading package wordnet to /root/nltk_data...\n"
          ]
        }
      ]
    },
    {
      "cell_type": "code",
      "source": [
        "neg_processed = [custom_preprocess(text) for text in negative_comments]\n",
        "pos_processed = [custom_preprocess(text) for text in positive_comments]"
      ],
      "metadata": {
        "id": "iXBF9NDTBKjY"
      },
      "execution_count": null,
      "outputs": []
    },
    {
      "cell_type": "code",
      "source": [
        "pos_processed_text = '\\n'.join(pos_processed)\n",
        "neg_processed_text = '\\n'.join(neg_processed)\n",
        "pos_file_path = '/content/drive/MyDrive/text_2/pre/pos_processed_text.txt'\n",
        "with open(pos_file_path, 'w', encoding='utf-8') as f:\n",
        "    f.write(pos_processed_text)\n",
        "neg_file_path = '/content/drive/MyDrive/text_2/pre/neg_processed_text.txt'\n",
        "with open(neg_file_path, 'w', encoding='utf-8') as f:\n",
        "    f.write(neg_processed_text)"
      ],
      "metadata": {
        "id": "JpA57i9OCsVL"
      },
      "execution_count": null,
      "outputs": []
    },
    {
      "cell_type": "markdown",
      "source": [
        "Use 80% of the original data as the train text file and 20% as the validation text file"
      ],
      "metadata": {
        "id": "RoVdkVH8NdPI"
      }
    },
    {
      "cell_type": "code",
      "source": [
        "def split_text_file(file_path, split_ratio=0.8):\n",
        "    # read the file\n",
        "    with open(file_path, 'r', encoding='utf-8') as file:\n",
        "        lines = file.readlines()\n",
        "    # Computed split point\n",
        "    split_point = int(len(lines) * split_ratio)\n",
        "    # Split into two parts, train and validation sets\n",
        "    train_lines = lines[:split_point]\n",
        "    test_lines = lines[split_point:]\n",
        "    return train_lines, test_lines\n",
        "\n",
        "# call the function\n",
        "# negative file\n",
        "neg_train_lines, neg_test_lines = split_text_file(neg_file_path, split_ratio=0.8)\n",
        "\n",
        "# Write these lines to a new file\n",
        "train_neg_path = '/content/drive/MyDrive/text_2/pre/train_neg.txt'\n",
        "with open(train_neg_path, 'w', encoding='utf-8') as train_file:\n",
        "    train_file.writelines(neg_train_lines)\n",
        "\n",
        "test_neg_path = '/content/drive/MyDrive/text_2/pre/test_neg.txt'\n",
        "with open(test_neg_path, 'w', encoding='utf-8') as test_file:\n",
        "    test_file.writelines(neg_test_lines)\n",
        "\n",
        "#positive file\n",
        "pos_train_lines, pos_test_lines = split_text_file(pos_file_path, split_ratio=0.8)\n",
        "\n",
        "# Write these lines to a new file\n",
        "train_pos_path = '/content/drive/MyDrive/text_2/pre/train_pos.txt'\n",
        "with open(train_pos_path, 'w', encoding='utf-8') as train_file:\n",
        "    train_file.writelines(pos_train_lines)\n",
        "test_pos_path = '/content/drive/MyDrive/text_2/pre/test_pos.txt'\n",
        "with open(test_pos_path, 'w', encoding='utf-8') as test_file:\n",
        "    test_file.writelines(pos_test_lines)\n"
      ],
      "metadata": {
        "id": "IKMdl6dDEvZQ"
      },
      "execution_count": null,
      "outputs": []
    },
    {
      "cell_type": "code",
      "source": [
        "print(len(pos_train_lines),len(pos_test_lines))\n",
        "print(len(neg_train_lines),len(neg_test_lines))"
      ],
      "metadata": {
        "colab": {
          "base_uri": "https://localhost:8080/"
        },
        "id": "Jqa0l51JGp3d",
        "outputId": "fae47fde-3900-467d-ee1b-4d9da88fb066"
      },
      "execution_count": null,
      "outputs": [
        {
          "output_type": "stream",
          "name": "stdout",
          "text": [
            "6053 1514\n",
            "6415 1604\n"
          ]
        }
      ]
    },
    {
      "cell_type": "code",
      "source": [
        "import os\n",
        "\n",
        "base_dir = '/content/drive/MyDrive/text_2'\n",
        "\n",
        "neg_file_path = os.path.join(base_dir, 'train', 'neg', 'train_neg.txt')\n",
        "pos_file_path = os.path.join(base_dir, 'train', 'pos', 'train_pos.txt')\n",
        "\n",
        "with open(neg_file_path, 'r', encoding='utf-8') as file:\n",
        "    for i, line in enumerate(file):\n",
        "        individual_file_path = os.path.join(base_dir, 'train', 'neg', f'neg_{i}.txt')\n",
        "        with open(individual_file_path, 'w', encoding='utf-8') as individual_file:\n",
        "            individual_file.write(line)\n",
        "\n",
        "with open(pos_file_path, 'r', encoding='utf-8') as file:\n",
        "    for i, line in enumerate(file):\n",
        "        individual_file_path = os.path.join(base_dir, 'train', 'pos', f'pos_{i}.txt')\n",
        "        with open(individual_file_path, 'w', encoding='utf-8') as individual_file:\n",
        "            individual_file.write(line)"
      ],
      "metadata": {
        "id": "gCR0y5KHG_M1"
      },
      "execution_count": null,
      "outputs": []
    },
    {
      "cell_type": "code",
      "source": [
        "neg_file_path = os.path.join(base_dir, 'val', 'neg', 'val_neg.txt')\n",
        "pos_file_path = os.path.join(base_dir, 'val', 'pos', 'val_pos.txt')\n",
        "\n",
        "with open(neg_file_path, 'r', encoding='utf-8') as file:\n",
        "    for i, line in enumerate(file):\n",
        "        individual_file_path = os.path.join(base_dir, 'val', 'neg', f'neg_{i}.txt')\n",
        "        with open(individual_file_path, 'w', encoding='utf-8') as individual_file:\n",
        "            individual_file.write(line)\n",
        "\n",
        "with open(pos_file_path, 'r', encoding='utf-8') as file:\n",
        "    for i, line in enumerate(file):\n",
        "        individual_file_path = os.path.join(base_dir, 'val', 'pos', f'pos_{i}.txt')\n",
        "        with open(individual_file_path, 'w', encoding='utf-8') as individual_file:\n",
        "            individual_file.write(line)"
      ],
      "metadata": {
        "id": "yyVhD02uHFQD"
      },
      "execution_count": null,
      "outputs": []
    },
    {
      "cell_type": "code",
      "source": [
        "from tensorflow import keras\n",
        "import pathlib\n",
        "batch_size = 64\n",
        "train_ds = tf.keras.utils.text_dataset_from_directory(\n",
        "    '/content/drive/MyDrive/text_2/train',\n",
        "    batch_size=batch_size)\n",
        "val_ds = tf.keras.utils.text_dataset_from_directory(\n",
        "    '/content/drive/MyDrive/text_2/val',\n",
        "    batch_size=batch_size)"
      ],
      "metadata": {
        "colab": {
          "base_uri": "https://localhost:8080/"
        },
        "id": "fjXOj_1Ef0r-",
        "outputId": "ed384b75-254a-4ed1-c3ac-b07cb829f317"
      },
      "execution_count": null,
      "outputs": [
        {
          "output_type": "stream",
          "name": "stdout",
          "text": [
            "Found 12470 files belonging to 2 classes.\n",
            "Found 3120 files belonging to 2 classes.\n"
          ]
        }
      ]
    },
    {
      "cell_type": "markdown",
      "source": [
        "Golden Constant are 804.126162965186 and 890.2975822125477, so I use bag-of-words model to predict."
      ],
      "metadata": {
        "id": "19gYVjCJQams"
      }
    },
    {
      "cell_type": "markdown",
      "source": [
        "# Bag-of-words model: bag-of-3-grams"
      ],
      "metadata": {
        "id": "wFeGldkzOjY7"
      }
    },
    {
      "cell_type": "markdown",
      "source": [
        "3-gram tokenization & indexing"
      ],
      "metadata": {
        "id": "u-tPgQbXRr17"
      }
    },
    {
      "cell_type": "code",
      "source": [
        "from tensorflow.keras.layers.experimental.preprocessing import TextVectorization\n",
        "import tensorflow as tf\n",
        "max_tokens = 8500\n",
        "text_vectorization = TextVectorization(\n",
        "    max_tokens=max_tokens,\n",
        "    ngrams = 3,\n",
        "    output_mode='multi_hot')\n",
        "\n",
        "text_only_train_ds = train_ds.map(lambda x, y: x)\n",
        "text_vectorization.adapt(text_only_train_ds)\n",
        "\n",
        "binary_3gram_train_ds = train_ds.map(lambda x, y: (text_vectorization(x), y), num_parallel_calls=4)\n",
        "binary_3gram_val_ds = val_ds.map(lambda x, y: (text_vectorization(x), y), num_parallel_calls=4)"
      ],
      "metadata": {
        "id": "Lyp6AvxBgEm1"
      },
      "execution_count": null,
      "outputs": []
    },
    {
      "cell_type": "code",
      "source": [
        "!pip install keras-tuner\n",
        "import kerastuner as kt\n",
        "from tensorflow.keras.layers.experimental.preprocessing import TextVectorization\n",
        "import tensorflow as tf"
      ],
      "metadata": {
        "colab": {
          "base_uri": "https://localhost:8080/"
        },
        "id": "FW7YJIkWiBPD",
        "outputId": "000e16d3-3689-4248-eb20-391361e97084"
      },
      "execution_count": null,
      "outputs": [
        {
          "output_type": "stream",
          "name": "stdout",
          "text": [
            "Requirement already satisfied: keras-tuner in /usr/local/lib/python3.10/dist-packages (1.4.7)\n",
            "Requirement already satisfied: keras in /usr/local/lib/python3.10/dist-packages (from keras-tuner) (2.15.0)\n",
            "Requirement already satisfied: packaging in /usr/local/lib/python3.10/dist-packages (from keras-tuner) (23.2)\n",
            "Requirement already satisfied: requests in /usr/local/lib/python3.10/dist-packages (from keras-tuner) (2.31.0)\n",
            "Requirement already satisfied: kt-legacy in /usr/local/lib/python3.10/dist-packages (from keras-tuner) (1.0.5)\n",
            "Requirement already satisfied: charset-normalizer<4,>=2 in /usr/local/lib/python3.10/dist-packages (from requests->keras-tuner) (3.3.2)\n",
            "Requirement already satisfied: idna<4,>=2.5 in /usr/local/lib/python3.10/dist-packages (from requests->keras-tuner) (3.6)\n",
            "Requirement already satisfied: urllib3<3,>=1.21.1 in /usr/local/lib/python3.10/dist-packages (from requests->keras-tuner) (2.0.7)\n",
            "Requirement already satisfied: certifi>=2017.4.17 in /usr/local/lib/python3.10/dist-packages (from requests->keras-tuner) (2024.2.2)\n"
          ]
        }
      ]
    },
    {
      "cell_type": "markdown",
      "source": [
        "# Model building & hyperparameters tuning"
      ],
      "metadata": {
        "id": "SNpSzdZZSmfI"
      }
    },
    {
      "cell_type": "code",
      "source": [
        "def model_builder(hp):\n",
        "    model = keras.Sequential()\n",
        "    model.add(keras.Input(shape=(max_tokens,)))\n",
        "    # Hyperparameter: The number of Dense layers and Dropout layers\n",
        "    for i in range(hp.Int('num_layers', 1, 4)):\n",
        "        model.add(layers.Dense(\n",
        "            hp.Int('units_' + str(i), min_value=16, max_value=128, step=16),\n",
        "            activation=hp.Choice('activation', values=['relu', 'tanh', 'sigmoid'])\n",
        "        ))\n",
        "        model.add(layers.Dropout(hp.Float('dropout_' + str(i), min_value=0.1, max_value=0.5, step=0.1)))\n",
        "\n",
        "    model.add(layers.Dense(1, activation='sigmoid'))\n",
        "\n",
        "    # Hyperparameters tunning： learning rate\n",
        "    learning_rate = hp.Float('learning_rate', min_value=1e-4, max_value=1e-2, sampling='LOG')\n",
        "\n",
        "    model.compile(\n",
        "        optimizer=keras.optimizers.RMSprop(learning_rate=learning_rate),\n",
        "        loss='binary_crossentropy',\n",
        "        metrics=['accuracy']\n",
        "    )\n",
        "    return model"
      ],
      "metadata": {
        "id": "KLfvFAcphtAs"
      },
      "execution_count": null,
      "outputs": []
    },
    {
      "cell_type": "code",
      "source": [
        "tuner = kt.RandomSearch(\n",
        "    model_builder,\n",
        "    objective='val_accuracy',\n",
        "    max_trials=50,\n",
        "    executions_per_trial=1,\n",
        "    directory='my_dir',\n",
        "    project_name='random_search_1947'\n",
        ")\n",
        "batch_size = 32\n",
        "epochs = 10\n",
        "tuner.search(binary_3gram_train_ds.cache(), epochs=epochs, validation_data=binary_3gram_val_ds.cache(), batch_size=batch_size)"
      ],
      "metadata": {
        "colab": {
          "base_uri": "https://localhost:8080/"
        },
        "id": "YTtoBcIZhwYE",
        "outputId": "f12eeed7-1a78-463a-a85e-0603e31cbc4c"
      },
      "execution_count": null,
      "outputs": [
        {
          "output_type": "stream",
          "name": "stdout",
          "text": [
            "Trial 50 Complete [00h 00m 25s]\n",
            "val_accuracy: 0.5144230723381042\n",
            "\n",
            "Best val_accuracy So Far: 0.8788461685180664\n",
            "Total elapsed time: 00h 28m 38s\n"
          ]
        }
      ]
    },
    {
      "cell_type": "code",
      "source": [
        "#search\n",
        "best_hps = tuner.get_best_hyperparameters(num_trials=1)[0]\n",
        "model_search = model_builder(best_hps)\n",
        "model_search.summary()\n",
        "best_hyperparameters = tuner.get_best_hyperparameters(num_trials=1)[0]\n",
        "print(\"Hyperparameters of the optimal model：\")\n",
        "print(f\"number of layers：{best_hyperparameters.get('num_layers')}\")\n",
        "print(f\"Number of units per layer：{[best_hyperparameters.get('units_' + str(i)) for i in range(best_hyperparameters.get('num_layers'))]}\")\n",
        "print(f\"activation function per layer：{[best_hyperparameters.get('activation') for i in range(best_hyperparameters.get('num_layers'))]}\")\n",
        "print(f\"dropout rate per layer：{[best_hyperparameters.get('dropout_' + str(i)) for i in range(best_hyperparameters.get('num_layers'))]}\")\n",
        "print(f\"learning rate: {best_hyperparameters.get('learning_rate')}\")\n",
        "callbacks = [\n",
        "    keras.callbacks.ModelCheckpoint(filepath='binary_t_1gram.keras',save_best_only=True,)]\n",
        "batch_size = 32\n",
        "epochs = 20\n",
        "history = model_search.fit(binary_3gram_train_ds.cache(), validation_data=binary_3gram_val_ds.cache(), batch_size=batch_size, epochs=epochs, callbacks=callbacks)\n",
        "model_search = keras.models.load_model('binary_t_1gram.keras')\n",
        "print(f\"Test acc: {model_search.evaluate(binary_3gram_val_ds)[1]:.3f}\")\n",
        "plotEpoch( history.history )"
      ],
      "metadata": {
        "colab": {
          "base_uri": "https://localhost:8080/",
          "height": 1000
        },
        "id": "_KYSrwczitPP",
        "outputId": "ee2b8290-bf00-4ec4-f9be-1d270d86f6f3"
      },
      "execution_count": null,
      "outputs": [
        {
          "output_type": "stream",
          "name": "stdout",
          "text": [
            "Model: \"sequential_3\"\n",
            "_________________________________________________________________\n",
            " Layer (type)                Output Shape              Param #   \n",
            "=================================================================\n",
            " dense_11 (Dense)            (None, 48)                408048    \n",
            "                                                                 \n",
            " dropout_8 (Dropout)         (None, 48)                0         \n",
            "                                                                 \n",
            " dense_12 (Dense)            (None, 32)                1568      \n",
            "                                                                 \n",
            " dropout_9 (Dropout)         (None, 32)                0         \n",
            "                                                                 \n",
            " dense_13 (Dense)            (None, 1)                 33        \n",
            "                                                                 \n",
            "=================================================================\n",
            "Total params: 409649 (1.56 MB)\n",
            "Trainable params: 409649 (1.56 MB)\n",
            "Non-trainable params: 0 (0.00 Byte)\n",
            "_________________________________________________________________\n",
            "最佳模型的超参数：\n",
            "层数：2\n",
            "每层单元数：[48, 32]\n",
            "每层激活函数：['relu', 'relu']\n",
            "每层 dropout 率：[0.2, 0.4]\n",
            "学习率：0.00043486648248593066\n",
            "Epoch 1/20\n",
            "195/195 [==============================] - 67s 334ms/step - loss: 0.5714 - accuracy: 0.7503 - val_loss: 0.4149 - val_accuracy: 0.8490\n",
            "Epoch 2/20\n",
            "195/195 [==============================] - 2s 9ms/step - loss: 0.3557 - accuracy: 0.8592 - val_loss: 0.3231 - val_accuracy: 0.8654\n",
            "Epoch 3/20\n",
            "195/195 [==============================] - 2s 8ms/step - loss: 0.2902 - accuracy: 0.8865 - val_loss: 0.3082 - val_accuracy: 0.8737\n",
            "Epoch 4/20\n",
            "195/195 [==============================] - 3s 13ms/step - loss: 0.2592 - accuracy: 0.9013 - val_loss: 0.3058 - val_accuracy: 0.8753\n",
            "Epoch 5/20\n",
            "195/195 [==============================] - 2s 11ms/step - loss: 0.2358 - accuracy: 0.9111 - val_loss: 0.3082 - val_accuracy: 0.8776\n",
            "Epoch 6/20\n",
            "195/195 [==============================] - 2s 9ms/step - loss: 0.2186 - accuracy: 0.9183 - val_loss: 0.3132 - val_accuracy: 0.8776\n",
            "Epoch 7/20\n",
            "195/195 [==============================] - 2s 8ms/step - loss: 0.2040 - accuracy: 0.9239 - val_loss: 0.3187 - val_accuracy: 0.8750\n",
            "Epoch 8/20\n",
            "195/195 [==============================] - 2s 8ms/step - loss: 0.1925 - accuracy: 0.9331 - val_loss: 0.3249 - val_accuracy: 0.8753\n",
            "Epoch 9/20\n",
            "195/195 [==============================] - 2s 10ms/step - loss: 0.1825 - accuracy: 0.9342 - val_loss: 0.3309 - val_accuracy: 0.8769\n",
            "Epoch 10/20\n",
            "195/195 [==============================] - 2s 12ms/step - loss: 0.1694 - accuracy: 0.9406 - val_loss: 0.3387 - val_accuracy: 0.8756\n",
            "Epoch 11/20\n",
            "195/195 [==============================] - 2s 10ms/step - loss: 0.1601 - accuracy: 0.9439 - val_loss: 0.3490 - val_accuracy: 0.8740\n",
            "Epoch 12/20\n",
            "195/195 [==============================] - 2s 8ms/step - loss: 0.1537 - accuracy: 0.9469 - val_loss: 0.3550 - val_accuracy: 0.8731\n",
            "Epoch 13/20\n",
            "195/195 [==============================] - 2s 8ms/step - loss: 0.1426 - accuracy: 0.9516 - val_loss: 0.3664 - val_accuracy: 0.8737\n",
            "Epoch 14/20\n",
            "195/195 [==============================] - 2s 8ms/step - loss: 0.1373 - accuracy: 0.9536 - val_loss: 0.3748 - val_accuracy: 0.8724\n",
            "Epoch 15/20\n",
            "195/195 [==============================] - 2s 9ms/step - loss: 0.1301 - accuracy: 0.9571 - val_loss: 0.3848 - val_accuracy: 0.8724\n",
            "Epoch 16/20\n",
            "195/195 [==============================] - 2s 12ms/step - loss: 0.1239 - accuracy: 0.9589 - val_loss: 0.3952 - val_accuracy: 0.8724\n",
            "Epoch 17/20\n",
            "195/195 [==============================] - 2s 11ms/step - loss: 0.1180 - accuracy: 0.9614 - val_loss: 0.4047 - val_accuracy: 0.8740\n",
            "Epoch 18/20\n",
            "195/195 [==============================] - 2s 9ms/step - loss: 0.1116 - accuracy: 0.9639 - val_loss: 0.4132 - val_accuracy: 0.8718\n",
            "Epoch 19/20\n",
            "195/195 [==============================] - 2s 8ms/step - loss: 0.1066 - accuracy: 0.9649 - val_loss: 0.4264 - val_accuracy: 0.8702\n",
            "Epoch 20/20\n",
            "195/195 [==============================] - 2s 8ms/step - loss: 0.1021 - accuracy: 0.9673 - val_loss: 0.4371 - val_accuracy: 0.8715\n",
            "49/49 [==============================] - 11s 188ms/step - loss: 0.3058 - accuracy: 0.8753\n",
            "Test acc: 0.875\n"
          ]
        },
        {
          "output_type": "display_data",
          "data": {
            "text/plain": [
              "<Figure size 640x480 with 1 Axes>"
            ],
            "image/png": "[encoded data removed]"
          },
          "metadata": {}
        },
        {
          "output_type": "display_data",
          "data": {
            "text/plain": [
              "<Figure size 640x480 with 0 Axes>"
            ]
          },
          "metadata": {}
        }
      ]
    },
    {
      "cell_type": "markdown",
      "source": [
        "# Apply the model to the test text data, make the prediction"
      ],
      "metadata": {
        "id": "38G6ToNhTf1-"
      }
    },
    {
      "cell_type": "code",
      "source": [
        "from tensorflow.keras.models import load_model\n",
        "model_search = keras.models.load_model('binary_t_1gram.keras')"
      ],
      "metadata": {
        "colab": {
          "base_uri": "https://localhost:8080/",
          "height": 158
        },
        "id": "vYWss0kirJus",
        "outputId": "4c332e89-ff89-4524-8b5a-17369f4e312e"
      },
      "execution_count": null,
      "outputs": [
        {
          "output_type": "error",
          "ename": "NameError",
          "evalue": "name 'keras' is not defined",
          "traceback": [
            "\u001b[0;31m---------------------------------------------------------------------------\u001b[0m",
            "\u001b[0;31mNameError\u001b[0m                                 Traceback (most recent call last)",
            "\u001b[0;32m<ipython-input-11-ba55c09ad623>\u001b[0m in \u001b[0;36m<cell line: 2>\u001b[0;34m()\u001b[0m\n\u001b[1;32m      1\u001b[0m \u001b[0;32mfrom\u001b[0m \u001b[0mtensorflow\u001b[0m\u001b[0;34m.\u001b[0m\u001b[0mkeras\u001b[0m\u001b[0;34m.\u001b[0m\u001b[0mmodels\u001b[0m \u001b[0;32mimport\u001b[0m \u001b[0mload_model\u001b[0m\u001b[0;34m\u001b[0m\u001b[0;34m\u001b[0m\u001b[0m\n\u001b[0;32m----> 2\u001b[0;31m \u001b[0mmodel_search\u001b[0m \u001b[0;34m=\u001b[0m \u001b[0mkeras\u001b[0m\u001b[0;34m.\u001b[0m\u001b[0mmodels\u001b[0m\u001b[0;34m.\u001b[0m\u001b[0mload_model\u001b[0m\u001b[0;34m(\u001b[0m\u001b[0;34m'binary_t_1gram.keras'\u001b[0m\u001b[0;34m)\u001b[0m\u001b[0;34m\u001b[0m\u001b[0;34m\u001b[0m\u001b[0m\n\u001b[0m",
            "\u001b[0;31mNameError\u001b[0m: name 'keras' is not defined"
          ]
        }
      ]
    },
    {
      "cell_type": "code",
      "source": [
        "df = pd.read_csv('/content/drive/MyDrive/text/customertweets.csv', header = None)\n",
        "\n",
        "print(df.head())"
      ],
      "metadata": {
        "colab": {
          "base_uri": "https://localhost:8080/"
        },
        "id": "uQPlvQCYrLXH",
        "outputId": "a6867c93-7211-475a-9d2f-69eb53241649"
      },
      "execution_count": null,
      "outputs": [
        {
          "output_type": "stream",
          "name": "stdout",
          "text": [
            "    0                                                  1\n",
            "0   6  My 8:50 flight to Dallas has been delayed to 1...\n",
            "1   7  @suzij77 @united @jimjefferies @Delta Oh that ...\n",
            "2   8  @ArianFoster I hate @united 2. They didn't let...\n",
            "3   9  I'm so upset with @AmericanAir They changed my...\n",
            "4  10  Slightly delayed flight home from Philly. but ...\n"
          ]
        }
      ]
    },
    {
      "cell_type": "code",
      "source": [
        "# Apply the preprocessing function\n",
        "df[1] = df[1].apply(custom_preprocess)\n",
        "\n",
        "# Check the first few entries of the processed text\n",
        "print(df[1].head())"
      ],
      "metadata": {
        "colab": {
          "base_uri": "https://localhost:8080/"
        },
        "id": "eoNjyqm5rSAm",
        "outputId": "8f75f745-52ec-4fca-d835-ee7a262ccd20"
      },
      "execution_count": null,
      "outputs": [
        {
          "output_type": "stream",
          "name": "stdout",
          "text": [
            "0    8:50 flight dallas delayed 10:40. 'm not surpr...\n",
            "1    oh suck . deep breath though . n't take people...\n",
            "2    hate 2. n't let flight 2 week ago 3min gate cl...\n",
            "3    'm upset changed boyfriend flight . n't get ti...\n",
            "4    slightly delayed flight home philly . least 's...\n",
            "Name: 1, dtype: object\n"
          ]
        }
      ]
    },
    {
      "cell_type": "code",
      "source": [
        "text_input = text_vectorization(df[1].values)\n",
        "predictions = model_search.predict(text_input)\n",
        "print(predictions)"
      ],
      "metadata": {
        "colab": {
          "base_uri": "https://localhost:8080/",
          "height": 176
        },
        "id": "7VfR6TPGrT1z",
        "outputId": "f44ecfb0-5fa2-45ec-d512-09b2aac3e8e9"
      },
      "execution_count": null,
      "outputs": [
        {
          "output_type": "error",
          "ename": "NameError",
          "evalue": "name 'text_vectorization' is not defined",
          "traceback": [
            "\u001b[0;31m---------------------------------------------------------------------------\u001b[0m",
            "\u001b[0;31mNameError\u001b[0m                                 Traceback (most recent call last)",
            "\u001b[0;32m<ipython-input-10-3f07fd505757>\u001b[0m in \u001b[0;36m<cell line: 1>\u001b[0;34m()\u001b[0m\n\u001b[0;32m----> 1\u001b[0;31m \u001b[0mtext_input\u001b[0m \u001b[0;34m=\u001b[0m \u001b[0mtext_vectorization\u001b[0m\u001b[0;34m(\u001b[0m\u001b[0mdf\u001b[0m\u001b[0;34m[\u001b[0m\u001b[0;36m1\u001b[0m\u001b[0;34m]\u001b[0m\u001b[0;34m.\u001b[0m\u001b[0mvalues\u001b[0m\u001b[0;34m)\u001b[0m\u001b[0;34m\u001b[0m\u001b[0;34m\u001b[0m\u001b[0m\n\u001b[0m\u001b[1;32m      2\u001b[0m \u001b[0mpredictions\u001b[0m \u001b[0;34m=\u001b[0m \u001b[0mmodel_search\u001b[0m\u001b[0;34m.\u001b[0m\u001b[0mpredict\u001b[0m\u001b[0;34m(\u001b[0m\u001b[0mtext_input\u001b[0m\u001b[0;34m)\u001b[0m\u001b[0;34m\u001b[0m\u001b[0;34m\u001b[0m\u001b[0m\n\u001b[1;32m      3\u001b[0m \u001b[0mprint\u001b[0m\u001b[0;34m(\u001b[0m\u001b[0mpredictions\u001b[0m\u001b[0;34m)\u001b[0m\u001b[0;34m\u001b[0m\u001b[0;34m\u001b[0m\u001b[0m\n",
            "\u001b[0;31mNameError\u001b[0m: name 'text_vectorization' is not defined"
          ]
        }
      ]
    },
    {
      "cell_type": "code",
      "source": [
        "raw = pd.read_csv('/content/drive/MyDrive/text/customertweets.csv', header = None)"
      ],
      "metadata": {
        "id": "4kc9ZRnXrVWI"
      },
      "execution_count": null,
      "outputs": []
    },
    {
      "cell_type": "code",
      "source": [
        "results_df = pd.DataFrame({\n",
        "    'text': df[1],  # raw data\n",
        "    'prediction': predictions.flatten()  # Model prediction result\n",
        "})\n",
        "\n",
        "positive_comments = results_df[results_df['prediction'] > 0.5]\n",
        "\n",
        "sorted_positive_comments = positive_comments.sort_values(by='prediction', ascending=False)\n",
        "final_positive_comments = raw.loc[sorted_positive_comments.index]"
      ],
      "metadata": {
        "id": "YXCkJko6rXNc"
      },
      "execution_count": null,
      "outputs": []
    },
    {
      "cell_type": "code",
      "source": [
        "sorted_positive_comments.to_csv('test_comments——2029.csv', index=True, header=False)\n",
        "final_positive_comments.to_csv('test_comments——2029-final.csv', index=True, header=False)"
      ],
      "metadata": {
        "id": "t4L0UNMLrYqQ"
      },
      "execution_count": null,
      "outputs": []
    }
  ]
}